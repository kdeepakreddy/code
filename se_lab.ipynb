{
  "nbformat": 4,
  "nbformat_minor": 0,
  "metadata": {
    "colab": {
      "provenance": [],
      "authorship_tag": "ABX9TyPmK2Q1hTxaE+Pqd3OOMR5n",
      "include_colab_link": true
    },
    "kernelspec": {
      "name": "python3",
      "display_name": "Python 3"
    },
    "language_info": {
      "name": "python"
    }
  },
  "cells": [
    {
      "cell_type": "markdown",
      "metadata": {
        "id": "view-in-github",
        "colab_type": "text"
      },
      "source": [
        "<a href=\"https://colab.research.google.com/github/kdeepakreddy/code/blob/main/se_lab.ipynb\" target=\"_parent\"><img src=\"https://colab.research.google.com/assets/colab-badge.svg\" alt=\"Open In Colab\"/></a>"
      ]
    },
    {
      "cell_type": "code",
      "execution_count": null,
      "metadata": {
        "id": "cR8XORZS58r4"
      },
      "outputs": [],
      "source": [
        "def Temperature_modeling(a,b,c,time):\n",
        "  temperature = a*time**2+ b*time + c\n",
        "  return temperature"
      ]
    },
    {
      "cell_type": "code",
      "source": [
        "#I) Hardcoded Variable.\n",
        "a,b,c=0.1,2,10\n",
        "time= 4\n",
        "#Display Results\n",
        "print(\"Hard-coded variables for weather modeling\")\n",
        "print(\"Temeprature for hardcoded coefficients at time\", time, \"hours\", Temperature_modeling(a,b,c,time))"
      ],
      "metadata": {
        "colab": {
          "base_uri": "https://localhost:8080/"
        },
        "id": "Gj614_yA7cjg",
        "outputId": "f3a19b81-d7a9-458b-9bd3-d033d6ec0dfe"
      },
      "execution_count": null,
      "outputs": [
        {
          "output_type": "stream",
          "name": "stdout",
          "text": [
            "Hard-coded variables for weather modeling\n",
            "Temeprature for hardcoded coefficients at time 4 hours 19.6\n"
          ]
        }
      ]
    },
    {
      "cell_type": "code",
      "source": [
        "#II) Accepting Variables from keyboard input.\n",
        "a=float (input(\"Enter the value of a: \"))\n",
        "b=float(input(\"Enter the value of b: \"))\n",
        "c=float(input(\"Enter the value of c: \"))\n",
        "time =float(input(\"Enter the value of time: \"))\n",
        "#variables reads from keyboard.\n",
        "print(\"Hard-coded variables for weather modeling\")\n",
        "print(\"Temeprature for hardcoded coefficients at time\", time, \"hours\", Temperature_modeling(a,b,c,time))"
      ],
      "metadata": {
        "colab": {
          "base_uri": "https://localhost:8080/"
        },
        "id": "2dv8nxcC7up2",
        "outputId": "9b0d0350-1682-42ca-a043-22ff2a8fdd74"
      },
      "execution_count": null,
      "outputs": [
        {
          "output_type": "stream",
          "name": "stdout",
          "text": [
            "Enter the value of a: 1.0\n",
            "Enter the value of b: 2\n",
            "Enter the value of c: 10\n",
            "Enter the value of time: 7\n",
            "Hard-coded variables for weather modeling\n",
            "Temeprature for hardcoded coefficients at time 7.0 hours 73.0\n"
          ]
        }
      ]
    },
    {
      "cell_type": "code",
      "source": [
        "#III) Reading variables from file.\n",
        "def read_from_file(filename):\n",
        "    with open(filename, 'r') as file:\n",
        "        lines = file.readlines()\n",
        "    coefficients = [tuple(map(float,line.strip().split(',')))for line in lines]\n",
        "    return coefficients"
      ],
      "metadata": {
        "id": "J5rL4pNJ9IOP"
      },
      "execution_count": null,
      "outputs": []
    },
    {
      "cell_type": "code",
      "source": [
        "# IV) Processing a single set of inputs.\n",
        "coefficients = read_from_file('/content/input.txt')\n",
        "a,b,c,time= coefficients[0]\n",
        "temperature = Temperature_modeling(a,b,c,time)\n",
        "print(\"read from a file for weather modeling\")\n",
        "print(\"Temeprature from keyboard coefficients at time\",time,\"hours : \",Temperature_modeling(a,b,c,time))"
      ],
      "metadata": {
        "colab": {
          "base_uri": "https://localhost:8080/"
        },
        "id": "893H1ZUv9lMl",
        "outputId": "799093b7-1b04-4977-d50d-14eb127bec38"
      },
      "execution_count": null,
      "outputs": [
        {
          "output_type": "stream",
          "name": "stdout",
          "text": [
            "read from a file for weather modeling\n",
            "Temeprature from keyboard coefficients at time 7.0 hours :  73.0\n"
          ]
        }
      ]
    },
    {
      "cell_type": "code",
      "source": [
        "# V) processing multiple set of inputs.\n",
        "for idx,(a,b,c,time) in enumerate(coefficients):\n",
        "  temperature = Temperature_modeling(a,b,c,time)\n",
        "  print(\"Temeprature from keyboard coefficients at time\",time,\"hours : \",Temperature_modeling(a,b,c,time))"
      ],
      "metadata": {
        "colab": {
          "base_uri": "https://localhost:8080/"
        },
        "id": "aNd7_-RVQ7Yj",
        "outputId": "05298728-8333-4b65-cdbc-f649afebec98"
      },
      "execution_count": null,
      "outputs": [
        {
          "output_type": "stream",
          "name": "stdout",
          "text": [
            "Temeprature from keyboard coefficients at time 7.0 hours :  73.0\n"
          ]
        }
      ]
    }
  ]
}